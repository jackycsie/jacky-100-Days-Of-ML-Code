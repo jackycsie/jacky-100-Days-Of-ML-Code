{
 "cells": [
  {
   "cell_type": "code",
   "execution_count": 1,
   "metadata": {
    "ExecuteTime": {
     "end_time": "2019-01-19T03:23:23.785351Z",
     "start_time": "2019-01-19T03:23:21.787083Z"
    }
   },
   "outputs": [
    {
     "name": "stderr",
     "output_type": "stream",
     "text": [
      "Using TensorFlow backend.\n"
     ]
    }
   ],
   "source": [
    "import tensorflow\n",
    "import keras\n",
    "import numpy as np\n",
    "import matplotlib.pyplot as plt\n",
    "import matplotlib.image as mpimg\n",
    "import os\n",
    "import shutil\n",
    "\n",
    "from IPython.display import Image\n",
    "from keras.preprocessing.image import ImageDataGenerator\n",
    "from keras import layers\n",
    "from keras import models\n",
    "from keras import optimizers\n",
    "from keras.models import Model\n",
    "from keras.layers import Input, Dense, Flatten, Dropout\n",
    "from keras.layers.convolutional import Conv2D\n",
    "from keras.layers.pooling import MaxPool2D\n",
    "from keras.utils.vis_utils import plot_model\n",
    "\n",
    "%matplotlib inline"
   ]
  },
  {
   "cell_type": "code",
   "execution_count": 2,
   "metadata": {
    "ExecuteTime": {
     "end_time": "2019-01-19T03:23:23.789075Z",
     "start_time": "2019-01-19T03:23:23.786591Z"
    },
    "collapsed": true
   },
   "outputs": [],
   "source": [
    "ROOT_DIR = os.getcwd()\n",
    "DATA_PATH = os.path.join(ROOT_DIR, \"dataset\")"
   ]
  },
  {
   "cell_type": "code",
   "execution_count": 3,
   "metadata": {
    "ExecuteTime": {
     "end_time": "2019-01-19T03:23:23.800623Z",
     "start_time": "2019-01-19T03:23:23.790273Z"
    },
    "collapsed": true
   },
   "outputs": [],
   "source": [
    "orig_dataset = os.path.join(DATA_PATH, \"train\")\n",
    "\n",
    "save_small_data = os.path.join(DATA_PATH, \"small_data\")\n",
    "if not os.path.exists(save_small_data):\n",
    "    os.mkdir(save_small_data)"
   ]
  },
  {
   "cell_type": "code",
   "execution_count": 4,
   "metadata": {
    "ExecuteTime": {
     "end_time": "2019-01-19T03:23:23.811373Z",
     "start_time": "2019-01-19T03:23:23.802070Z"
    },
    "collapsed": true
   },
   "outputs": [],
   "source": [
    "small_train_data = os.path.join(save_small_data, \"train\")\n",
    "if not os.path.exists(small_train_data):\n",
    "    os.mkdir(small_train_data)\n",
    "    \n",
    "small_validation_data = os.path.join(save_small_data, \"validation\")\n",
    "if not os.path.exists(small_validation_data):\n",
    "    os.mkdir(small_validation_data)\n",
    "\n",
    "small_test_data = os.path.join(save_small_data, \"test\")\n",
    "if not os.path.exists(small_test_data):\n",
    "    os.mkdir(small_test_data)"
   ]
  },
  {
   "cell_type": "code",
   "execution_count": 5,
   "metadata": {
    "ExecuteTime": {
     "end_time": "2019-01-19T03:23:23.821954Z",
     "start_time": "2019-01-19T03:23:23.812693Z"
    },
    "collapsed": true
   },
   "outputs": [],
   "source": [
    "train_dogs_data = os.path.join(small_train_data, 'dogs')\n",
    "if not os.path.exists(train_dogs_data):\n",
    "    os.mkdir(train_dogs_data)\n",
    "\n",
    "train_cats_data = os.path.join(small_train_data, 'cats')\n",
    "if not os.path.exists(train_cats_data):\n",
    "    os.mkdir(train_cats_data)"
   ]
  },
  {
   "cell_type": "code",
   "execution_count": 6,
   "metadata": {
    "ExecuteTime": {
     "end_time": "2019-01-19T03:23:23.832476Z",
     "start_time": "2019-01-19T03:23:23.823464Z"
    },
    "collapsed": true
   },
   "outputs": [],
   "source": [
    "validation_dogs_data = os.path.join(small_validation_data, 'dogs')\n",
    "if not os.path.exists(validation_dogs_data):\n",
    "    os.mkdir(validation_dogs_data)\n",
    "    \n",
    "validation_cats_data = os.path.join(small_validation_data, 'cats')\n",
    "if not os.path.exists(validation_cats_data):\n",
    "    os.mkdir(validation_cats_data)"
   ]
  },
  {
   "cell_type": "code",
   "execution_count": 7,
   "metadata": {
    "ExecuteTime": {
     "end_time": "2019-01-19T03:23:23.844130Z",
     "start_time": "2019-01-19T03:23:23.833805Z"
    },
    "collapsed": true
   },
   "outputs": [],
   "source": [
    "test_dogs_data = os.path.join(small_test_data, 'dogs')\n",
    "if not os.path.exists(test_dogs_data):\n",
    "    os.mkdir(test_dogs_data)\n",
    "    \n",
    "test_cats_data = os.path.join(small_test_data, 'cats')\n",
    "if not os.path.exists(test_cats_data):\n",
    "    os.mkdir(test_cats_data)"
   ]
  },
  {
   "cell_type": "code",
   "execution_count": 8,
   "metadata": {
    "ExecuteTime": {
     "end_time": "2019-01-19T03:23:23.876242Z",
     "start_time": "2019-01-19T03:23:23.845681Z"
    }
   },
   "outputs": [
    {
     "name": "stdout",
     "output_type": "stream",
     "text": [
      "報告班長，訓練的貓咪已全部複製完畢\n",
      "報告班長，驗證的貓咪已全部複製完畢\n",
      "報告班長，測試的貓咪已全部複製完畢\n"
     ]
    }
   ],
   "source": [
    "mv_cats = [\"cat.{}.jpg\".format(i) for i in range(1000)]\n",
    "for mv_cat in mv_cats:\n",
    "    src = os.path.join(orig_dataset, mv_cat)\n",
    "    des = os.path.join(train_cats_data, mv_cat)\n",
    "    if not os.path.exists(des):\n",
    "        shutil.copyfile(src, des)\n",
    "print(\"報告班長，訓練的貓咪已全部複製完畢\")\n",
    "\n",
    "mv_cats = [\"cat.{}.jpg\".format(i) for i in range(1000, 1500)]\n",
    "for mv_cat in mv_cats:\n",
    "    src = os.path.join(orig_dataset, mv_cat)\n",
    "    des = os.path.join(validation_cats_data, mv_cat)\n",
    "    if not os.path.exists(des):\n",
    "        shutil.copyfile(src, des)\n",
    "print(\"報告班長，驗證的貓咪已全部複製完畢\")\n",
    "\n",
    "mv_cats = [\"cat.{}.jpg\".format(i) for i in range(1500, 2000)]\n",
    "for mv_cat in mv_cats:\n",
    "    src = os.path.join(orig_dataset, mv_cat)\n",
    "    des = os.path.join(test_cats_data, mv_cat)\n",
    "    if not os.path.exists(des):\n",
    "        shutil.copyfile(src, des)\n",
    "print(\"報告班長，測試的貓咪已全部複製完畢\")"
   ]
  },
  {
   "cell_type": "code",
   "execution_count": 9,
   "metadata": {
    "ExecuteTime": {
     "end_time": "2019-01-19T03:23:23.910656Z",
     "start_time": "2019-01-19T03:23:23.884636Z"
    }
   },
   "outputs": [
    {
     "name": "stdout",
     "output_type": "stream",
     "text": [
      "報告班長，訓練的狗狗已全部複製完畢\n",
      "報告班長，驗證的狗狗已全部複製完畢\n",
      "報告班長，測試的狗狗已全部複製完畢\n"
     ]
    }
   ],
   "source": [
    "mv_dogs = [\"dog.{}.jpg\".format(i) for i in range(1000)]\n",
    "for mv_dog in mv_dogs:\n",
    "    src = os.path.join(orig_dataset, mv_dog)\n",
    "    des = os.path.join(train_dogs_data, mv_dog)\n",
    "    if not os.path.exists(des):\n",
    "        shutil.copyfile(src, des)\n",
    "print(\"報告班長，訓練的狗狗已全部複製完畢\")\n",
    "\n",
    "mv_dogs = [\"dog.{}.jpg\".format(i) for i in range(1000, 1500)]\n",
    "for mv_dog in mv_dogs:\n",
    "    src = os.path.join(orig_dataset, mv_dog)\n",
    "    des = os.path.join(validation_dogs_data, mv_dog)\n",
    "    if not os.path.exists(des):\n",
    "        shutil.copyfile(src, des)\n",
    "print(\"報告班長，驗證的狗狗已全部複製完畢\")\n",
    "\n",
    "mv_dogs = [\"dog.{}.jpg\".format(i) for i in range(1500, 2000)]\n",
    "for mv_dog in mv_dogs:\n",
    "    src = os.path.join(orig_dataset, mv_dog)\n",
    "    des = os.path.join(test_dogs_data, mv_dog)\n",
    "    if not os.path.exists(des):\n",
    "        shutil.copyfile(src, des)\n",
    "print(\"報告班長，測試的狗狗已全部複製完畢\")"
   ]
  },
  {
   "cell_type": "code",
   "execution_count": 10,
   "metadata": {
    "ExecuteTime": {
     "end_time": "2019-01-19T03:23:23.919374Z",
     "start_time": "2019-01-19T03:23:23.911907Z"
    }
   },
   "outputs": [
    {
     "name": "stdout",
     "output_type": "stream",
     "text": [
      "報告班長 訓練貓咪集，應到1000隻，實到 1000 隻，報告完畢。\n",
      "報告班長 訓練狗狗集，應到1000隻，實到 1000 隻，報告完畢。\n",
      "報告班長 驗證貓咪集，應到500 隻，實到 500  隻，報告完畢。\n",
      "報告班長 驗證狗狗集，應到500 隻，實到 500  隻，報告完畢。\n",
      "報告班長 測試貓咪集，應到500 隻，實到 500  隻，報告完畢。\n",
      "報告班長 測試狗狗集，應到500 隻，實到 500  隻，報告完畢。\n"
     ]
    }
   ],
   "source": [
    "print('報告班長 訓練貓咪集，應到1000隻，實到', len(os.listdir(train_cats_data)),'隻，報告完畢。')\n",
    "print('報告班長 訓練狗狗集，應到1000隻，實到', len(os.listdir(train_dogs_data)),'隻，報告完畢。')\n",
    "print('報告班長 驗證貓咪集，應到500 隻，實到', len(os.listdir(validation_cats_data)),' 隻，報告完畢。')\n",
    "print('報告班長 驗證狗狗集，應到500 隻，實到', len(os.listdir(validation_dogs_data)),' 隻，報告完畢。')\n",
    "print('報告班長 測試貓咪集，應到500 隻，實到', len(os.listdir(test_cats_data)),' 隻，報告完畢。')\n",
    "print('報告班長 測試狗狗集，應到500 隻，實到', len(os.listdir(test_dogs_data)),' 隻，報告完畢。')"
   ]
  },
  {
   "cell_type": "code",
   "execution_count": 11,
   "metadata": {
    "ExecuteTime": {
     "end_time": "2019-01-19T03:23:23.927218Z",
     "start_time": "2019-01-19T03:23:23.920638Z"
    },
    "collapsed": true
   },
   "outputs": [],
   "source": [
    "train_datagen = ImageDataGenerator(rescale=1/255)\n",
    "test_datagen = ImageDataGenerator(rescale=1/255)"
   ]
  },
  {
   "cell_type": "code",
   "execution_count": 12,
   "metadata": {
    "ExecuteTime": {
     "end_time": "2019-01-19T03:23:23.941257Z",
     "start_time": "2019-01-19T03:23:23.928596Z"
    },
    "collapsed": true
   },
   "outputs": [],
   "source": [
    "target_number = 130"
   ]
  },
  {
   "cell_type": "code",
   "execution_count": 13,
   "metadata": {
    "ExecuteTime": {
     "end_time": "2019-01-19T03:23:24.181156Z",
     "start_time": "2019-01-19T03:23:23.943463Z"
    }
   },
   "outputs": [
    {
     "name": "stdout",
     "output_type": "stream",
     "text": [
      "Found 2000 images belonging to 2 classes.\n"
     ]
    }
   ],
   "source": [
    "# 直接從檔案目錄讀取圖像檔資料\n",
    "train_generator = train_datagen.flow_from_directory( \n",
    "        # 這是圖像資料的目錄\n",
    "        small_train_data,\n",
    "        # 所有的圖像大小會被轉換成150x150\n",
    "        target_size=(target_number, target_number),\n",
    "        # 每次產生20圖像的批次資料\n",
    "        batch_size=20,\n",
    "        # 由於這是一個二元分類問題, y的lable值也會被轉換成二元的標籤\n",
    "        class_mode='binary')"
   ]
  },
  {
   "cell_type": "code",
   "execution_count": 14,
   "metadata": {
    "ExecuteTime": {
     "end_time": "2019-01-19T03:23:24.345491Z",
     "start_time": "2019-01-19T03:23:24.183838Z"
    }
   },
   "outputs": [
    {
     "name": "stdout",
     "output_type": "stream",
     "text": [
      "Found 1000 images belonging to 2 classes.\n"
     ]
    }
   ],
   "source": [
    "#直接從檔案目錄讀取圖像檔資料\n",
    "validation_generator = test_datagen.flow_from_directory(\n",
    "        small_validation_data,\n",
    "        target_size=(target_number, target_number),\n",
    "        batch_size=20,\n",
    "        class_mode='binary')"
   ]
  },
  {
   "cell_type": "code",
   "execution_count": 15,
   "metadata": {
    "ExecuteTime": {
     "end_time": "2019-01-19T03:23:24.452246Z",
     "start_time": "2019-01-19T03:23:24.347319Z"
    }
   },
   "outputs": [
    {
     "name": "stdout",
     "output_type": "stream",
     "text": [
      "data batch shape: (20, 130, 130, 3)\n",
      "labels batch shape: (20,)\n"
     ]
    }
   ],
   "source": [
    "for data_batch, labels_batch in train_generator:\n",
    "    print('data batch shape:', data_batch.shape)\n",
    "    print('labels batch shape:', labels_batch.shape)\n",
    "    break"
   ]
  },
  {
   "cell_type": "code",
   "execution_count": 16,
   "metadata": {
    "ExecuteTime": {
     "end_time": "2019-01-19T03:23:24.816645Z",
     "start_time": "2019-01-19T03:23:24.453653Z"
    }
   },
   "outputs": [
    {
     "name": "stdout",
     "output_type": "stream",
     "text": [
      "_________________________________________________________________\n",
      "Layer (type)                 Output Shape              Param #   \n",
      "=================================================================\n",
      "input (InputLayer)           (None, 130, 130, 3)       0         \n",
      "_________________________________________________________________\n",
      "conv1 (Conv2D)               (None, 128, 128, 3)       84        \n",
      "_________________________________________________________________\n",
      "conv2 (Conv2D)               (None, 126, 126, 10)      280       \n",
      "_________________________________________________________________\n",
      "pool1 (MaxPooling2D)         (None, 63, 63, 10)        0         \n",
      "_________________________________________________________________\n",
      "conv3 (Conv2D)               (None, 61, 61, 3)         273       \n",
      "_________________________________________________________________\n",
      "conv4 (Conv2D)               (None, 59, 59, 5)         140       \n",
      "_________________________________________________________________\n",
      "pool2 (MaxPooling2D)         (None, 29, 29, 5)         0         \n",
      "_________________________________________________________________\n",
      "flatten1 (Flatten)           (None, 4205)              0         \n",
      "_________________________________________________________________\n",
      "hidden1 (Dense)              (None, 100)               420600    \n",
      "_________________________________________________________________\n",
      "output (Dense)               (None, 1)                 101       \n",
      "=================================================================\n",
      "Total params: 421,478\n",
      "Trainable params: 421,478\n",
      "Non-trainable params: 0\n",
      "_________________________________________________________________\n"
     ]
    },
    {
     "data": {
      "image/png": "[encoded data removed]",
      "text/plain": [
       "<IPython.core.display.Image object>"
      ]
     },
     "execution_count": 16,
     "metadata": {},
     "output_type": "execute_result"
    }
   ],
   "source": [
    "image_input = Input(shape=(target_number, target_number, 3), name='input')\n",
    "\n",
    "conv1 = Conv2D(3, kernel_size=3, activation='relu', name='conv1')(image_input)\n",
    "conv2 = Conv2D(10, kernel_size=3, activation='relu', name='conv2')(conv1)\n",
    "pool1 = MaxPool2D(pool_size=(2, 2), strides=(2,2), name='pool1')(conv2)\n",
    "\n",
    "conv3 = Conv2D(3, kernel_size=3, activation='relu', name='conv3')(pool1)\n",
    "conv4 = Conv2D(5, kernel_size=3, activation='relu', name='conv4')(conv3)\n",
    "pool2 = MaxPool2D(pool_size=(3, 3), strides=(2,2), name='pool2')(conv4)\n",
    "\n",
    "flatten1 = Flatten(name='flatten1')(pool2)\n",
    "\n",
    "hidden1 = Dense(100, activation='sigmoid', name='hidden1')(flatten1)\n",
    "output = Dense(1, activation='sigmoid', name='output')(hidden1)\n",
    "model = Model(inputs=image_input, outputs=output)\n",
    "\n",
    "model.summary()\n",
    "\n",
    "plot_model(model, to_file='convolutional_neural_network.png')\n",
    "\n",
    "Image('convolutional_neural_network.png')"
   ]
  },
  {
   "cell_type": "code",
   "execution_count": 17,
   "metadata": {
    "ExecuteTime": {
     "end_time": "2019-01-19T03:23:24.902754Z",
     "start_time": "2019-01-19T03:23:24.818376Z"
    },
    "collapsed": true
   },
   "outputs": [],
   "source": [
    "model.compile(loss='binary_crossentropy',\n",
    "              optimizer=\"adadelta\",\n",
    "              metrics=['acc'])"
   ]
  },
  {
   "cell_type": "code",
   "execution_count": 18,
   "metadata": {
    "ExecuteTime": {
     "end_time": "2019-01-19T03:23:24.919036Z",
     "start_time": "2019-01-19T03:23:24.906289Z"
    },
    "collapsed": true
   },
   "outputs": [],
   "source": [
    "from keras.callbacks import EarlyStopping, ReduceLROnPlateau\n",
    "earlystop = EarlyStopping(patience=10)\n",
    "#learning_rate_reduction = ReduceLROnPlateau(monitor='val_acc', \n",
    "                                            #patience=2, \n",
    "                                            #verbose=1, \n",
    "                                            #factor=0.5, \n",
    "                                            #min_lr=0.00001)\n",
    "#callbacks = [earlystop, learning_rate_reduction]\n",
    "callbacks = [earlystop]"
   ]
  },
  {
   "cell_type": "code",
   "execution_count": 19,
   "metadata": {
    "ExecuteTime": {
     "end_time": "2019-01-19T03:30:19.053974Z",
     "start_time": "2019-01-19T03:23:24.923020Z"
    },
    "scrolled": true
   },
   "outputs": [
    {
     "name": "stdout",
     "output_type": "stream",
     "text": [
      "Epoch 1/50\n",
      "100/100 [==============================] - 27s 275ms/step - loss: 0.6984 - acc: 0.5095 - val_loss: 0.6932 - val_acc: 0.5000\n",
      "Epoch 2/50\n",
      "100/100 [==============================] - 23s 234ms/step - loss: 0.6861 - acc: 0.5510 - val_loss: 0.6737 - val_acc: 0.5650\n",
      "Epoch 3/50\n",
      "100/100 [==============================] - 23s 227ms/step - loss: 0.6573 - acc: 0.6080 - val_loss: 0.6441 - val_acc: 0.6300\n",
      "Epoch 4/50\n",
      "100/100 [==============================] - 27s 268ms/step - loss: 0.6369 - acc: 0.6435 - val_loss: 0.6507 - val_acc: 0.6220\n",
      "Epoch 5/50\n",
      "100/100 [==============================] - 29s 288ms/step - loss: 0.6078 - acc: 0.6770 - val_loss: 0.6419 - val_acc: 0.6260\n",
      "Epoch 6/50\n",
      "100/100 [==============================] - 28s 280ms/step - loss: 0.5809 - acc: 0.6895 - val_loss: 0.6866 - val_acc: 0.6250\n",
      "Epoch 7/50\n",
      "100/100 [==============================] - 28s 282ms/step - loss: 0.5511 - acc: 0.7290 - val_loss: 0.6657 - val_acc: 0.6410\n",
      "Epoch 8/50\n",
      "100/100 [==============================] - 30s 297ms/step - loss: 0.5202 - acc: 0.7365 - val_loss: 0.6891 - val_acc: 0.6480\n",
      "Epoch 9/50\n",
      "100/100 [==============================] - 29s 294ms/step - loss: 0.4818 - acc: 0.7565 - val_loss: 0.6927 - val_acc: 0.6570\n",
      "Epoch 10/50\n",
      "100/100 [==============================] - 29s 286ms/step - loss: 0.4514 - acc: 0.7825 - val_loss: 0.7708 - val_acc: 0.6210\n",
      "Epoch 11/50\n",
      "100/100 [==============================] - 29s 288ms/step - loss: 0.3984 - acc: 0.8145 - val_loss: 0.7430 - val_acc: 0.6330\n",
      "Epoch 12/50\n",
      "100/100 [==============================] - 28s 285ms/step - loss: 0.3530 - acc: 0.8410 - val_loss: 0.8780 - val_acc: 0.6170\n",
      "Epoch 13/50\n",
      "100/100 [==============================] - 28s 280ms/step - loss: 0.3177 - acc: 0.8585 - val_loss: 0.8557 - val_acc: 0.6380\n",
      "Epoch 14/50\n",
      "100/100 [==============================] - 28s 276ms/step - loss: 0.2788 - acc: 0.8850 - val_loss: 0.9722 - val_acc: 0.6280\n",
      "Epoch 15/50\n",
      "100/100 [==============================] - 28s 276ms/step - loss: 0.2449 - acc: 0.8975 - val_loss: 1.0668 - val_acc: 0.6260\n"
     ]
    }
   ],
   "source": [
    "history = model.fit_generator(\n",
    "      train_generator,\n",
    "      steps_per_epoch=100,\n",
    "      epochs=50,\n",
    "      validation_data=validation_generator,\n",
    "      validation_steps=50,\n",
    "      callbacks=callbacks)"
   ]
  },
  {
   "cell_type": "code",
   "execution_count": 20,
   "metadata": {
    "ExecuteTime": {
     "end_time": "2019-01-19T03:30:19.266643Z",
     "start_time": "2019-01-19T03:30:19.057244Z"
    },
    "collapsed": true
   },
   "outputs": [],
   "source": [
    "model.save('cats_and_dogs_small_2.h5')"
   ]
  },
  {
   "cell_type": "code",
   "execution_count": 21,
   "metadata": {
    "ExecuteTime": {
     "end_time": "2019-01-19T03:30:20.008159Z",
     "start_time": "2019-01-19T03:30:19.268129Z"
    },
    "scrolled": true
   },
   "outputs": [
    {
     "data": {
      "image/png": "[encoded data removed]",
      "text/plain": [
       "<Figure size 1440x432 with 2 Axes>"
      ]
     },
     "metadata": {},
     "output_type": "display_data"
    }
   ],
   "source": [
    "import matplotlib.pyplot as plt\n",
    "\n",
    "acc = history.history['acc']\n",
    "val_acc = history.history['val_acc']\n",
    "loss = history.history['loss']\n",
    "val_loss = history.history['val_loss']\n",
    "\n",
    "epochs = range(len(acc))\n",
    "\n",
    "plt.figure(figsize=(20,6))\n",
    "\n",
    "\n",
    "plt.subplot(1,2,1)\n",
    "plt.grid(True)\n",
    "plt.rcParams['axes.facecolor'] = 'white'\n",
    "plt.plot(epochs, acc, linewidth = '2', label = \"Training acc\", color='blue', linestyle='--', marker='o', markersize=8)\n",
    "plt.plot(epochs, val_acc, linewidth = '2', label = \"Validation acc\", color='coral', linestyle='--', marker='o', markersize=8)\n",
    "plt.title('Training and validation accuracy')\n",
    "plt.legend()\n",
    "\n",
    "plt.subplot(1,2,2)\n",
    "plt.grid(True)\n",
    "plt.plot(epochs, loss, linewidth = '2', label = \"Training loss\", color='blue', linestyle='--', marker='o', markersize=8)\n",
    "plt.plot(epochs, val_loss, linewidth = '2', label = \"Validation loss\", color='coral', linestyle='--', marker='o', markersize=8)\n",
    "plt.title('Training and validation loss')\n",
    "plt.legend()\n",
    "\n",
    "plt.show()"
   ]
  }
 ],
 "metadata": {
  "kernelspec": {
   "display_name": "Python 3",
   "language": "python",
   "name": "python3"
  },
  "language_info": {
   "codemirror_mode": {
    "name": "ipython",
    "version": 3
   },
   "file_extension": ".py",
   "mimetype": "text/x-python",
   "name": "python",
   "nbconvert_exporter": "python",
   "pygments_lexer": "ipython3",
   "version": "3.5.2"
  }
 },
 "nbformat": 4,
 "nbformat_minor": 2
}
