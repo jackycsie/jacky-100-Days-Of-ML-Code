{
 "cells": [
  {
   "cell_type": "code",
   "execution_count": 1,
   "metadata": {
    "ExecuteTime": {
     "end_time": "2019-01-30T03:23:54.082334Z",
     "start_time": "2019-01-30T03:23:52.790055Z"
    }
   },
   "outputs": [
    {
     "name": "stderr",
     "output_type": "stream",
     "text": [
      "Using TensorFlow backend.\n"
     ]
    }
   ],
   "source": [
    "import tensorflow\n",
    "import keras\n",
    "import numpy as np\n",
    "import matplotlib.pyplot as plt\n",
    "import matplotlib.image as mpimg\n",
    "import os\n",
    "import shutil\n",
    "\n",
    "from IPython.display import Image\n",
    "from keras.preprocessing.image import ImageDataGenerator\n",
    "from keras import layers\n",
    "from keras import models\n",
    "from keras import optimizers\n",
    "from keras.models import Model\n",
    "from keras.layers import Input, Dense, Flatten, Dropout, BatchNormalization, Convolution2D\n",
    "from keras.layers.convolutional import Conv2D\n",
    "from keras.layers.pooling import MaxPool2D\n",
    "from keras.utils import plot_model\n",
    "from keras.models import load_model\n",
    "\n",
    "%matplotlib inline"
   ]
  },
  {
   "cell_type": "code",
   "execution_count": 2,
   "metadata": {
    "ExecuteTime": {
     "end_time": "2019-01-30T03:23:54.085833Z",
     "start_time": "2019-01-30T03:23:54.083500Z"
    },
    "collapsed": true
   },
   "outputs": [],
   "source": [
    "ROOT_DIR = os.getcwd()\n",
    "DATA_PATH = os.path.join(ROOT_DIR, \"dataset\")"
   ]
  },
  {
   "cell_type": "code",
   "execution_count": 3,
   "metadata": {
    "ExecuteTime": {
     "end_time": "2019-01-30T03:23:54.096464Z",
     "start_time": "2019-01-30T03:23:54.086980Z"
    },
    "collapsed": true
   },
   "outputs": [],
   "source": [
    "orig_dataset = os.path.join(DATA_PATH, \"train\")\n",
    "\n",
    "save_small_data = os.path.join(DATA_PATH, \"small_data\")\n",
    "if not os.path.exists(save_small_data):\n",
    "    os.mkdir(save_small_data)"
   ]
  },
  {
   "cell_type": "code",
   "execution_count": 4,
   "metadata": {
    "ExecuteTime": {
     "end_time": "2019-01-30T03:23:54.106678Z",
     "start_time": "2019-01-30T03:23:54.097749Z"
    },
    "collapsed": true
   },
   "outputs": [],
   "source": [
    "small_train_data = os.path.join(save_small_data, \"train\")\n",
    "if not os.path.exists(small_train_data):\n",
    "    os.mkdir(small_train_data)\n",
    "    \n",
    "small_validation_data = os.path.join(save_small_data, \"validation\")\n",
    "if not os.path.exists(small_validation_data):\n",
    "    os.mkdir(small_validation_data)\n",
    "\n",
    "small_test_data = os.path.join(save_small_data, \"test\")\n",
    "if not os.path.exists(small_test_data):\n",
    "    os.mkdir(small_test_data)"
   ]
  },
  {
   "cell_type": "code",
   "execution_count": 5,
   "metadata": {
    "ExecuteTime": {
     "end_time": "2019-01-30T03:23:54.117811Z",
     "start_time": "2019-01-30T03:23:54.107812Z"
    },
    "collapsed": true
   },
   "outputs": [],
   "source": [
    "train_dogs_data = os.path.join(small_train_data, 'dogs')\n",
    "if not os.path.exists(train_dogs_data):\n",
    "    os.mkdir(train_dogs_data)\n",
    "\n",
    "train_cats_data = os.path.join(small_train_data, 'cats')\n",
    "if not os.path.exists(train_cats_data):\n",
    "    os.mkdir(train_cats_data)"
   ]
  },
  {
   "cell_type": "code",
   "execution_count": 6,
   "metadata": {
    "ExecuteTime": {
     "end_time": "2019-01-30T03:23:54.127903Z",
     "start_time": "2019-01-30T03:23:54.118920Z"
    },
    "collapsed": true
   },
   "outputs": [],
   "source": [
    "validation_dogs_data = os.path.join(small_validation_data, 'dogs')\n",
    "if not os.path.exists(validation_dogs_data):\n",
    "    os.mkdir(validation_dogs_data)\n",
    "    \n",
    "validation_cats_data = os.path.join(small_validation_data, 'cats')\n",
    "if not os.path.exists(validation_cats_data):\n",
    "    os.mkdir(validation_cats_data)"
   ]
  },
  {
   "cell_type": "code",
   "execution_count": 7,
   "metadata": {
    "ExecuteTime": {
     "end_time": "2019-01-30T03:23:54.138106Z",
     "start_time": "2019-01-30T03:23:54.129152Z"
    },
    "collapsed": true
   },
   "outputs": [],
   "source": [
    "test_dogs_data = os.path.join(small_test_data, 'dogs')\n",
    "if not os.path.exists(test_dogs_data):\n",
    "    os.mkdir(test_dogs_data)\n",
    "    \n",
    "test_cats_data = os.path.join(small_test_data, 'cats')\n",
    "if not os.path.exists(test_cats_data):\n",
    "    os.mkdir(test_cats_data)"
   ]
  },
  {
   "cell_type": "code",
   "execution_count": 8,
   "metadata": {
    "ExecuteTime": {
     "end_time": "2019-01-30T03:23:54.163809Z",
     "start_time": "2019-01-30T03:23:54.139355Z"
    }
   },
   "outputs": [
    {
     "name": "stdout",
     "output_type": "stream",
     "text": [
      "報告班長，訓練的貓咪已全部複製完畢\n",
      "報告班長，驗證的貓咪已全部複製完畢\n",
      "報告班長，測試的貓咪已全部複製完畢\n"
     ]
    }
   ],
   "source": [
    "mv_cats = [\"cat.{}.jpg\".format(i) for i in range(1000)]\n",
    "for mv_cat in mv_cats:\n",
    "    src = os.path.join(orig_dataset, mv_cat)\n",
    "    des = os.path.join(train_cats_data, mv_cat)\n",
    "    if not os.path.exists(des):\n",
    "        shutil.copyfile(src, des)\n",
    "print(\"報告班長，訓練的貓咪已全部複製完畢\")\n",
    "\n",
    "mv_cats = [\"cat.{}.jpg\".format(i) for i in range(1000, 1500)]\n",
    "for mv_cat in mv_cats:\n",
    "    src = os.path.join(orig_dataset, mv_cat)\n",
    "    des = os.path.join(validation_cats_data, mv_cat)\n",
    "    if not os.path.exists(des):\n",
    "        shutil.copyfile(src, des)\n",
    "print(\"報告班長，驗證的貓咪已全部複製完畢\")\n",
    "\n",
    "mv_cats = [\"cat.{}.jpg\".format(i) for i in range(1500, 2000)]\n",
    "for mv_cat in mv_cats:\n",
    "    src = os.path.join(orig_dataset, mv_cat)\n",
    "    des = os.path.join(test_cats_data, mv_cat)\n",
    "    if not os.path.exists(des):\n",
    "        shutil.copyfile(src, des)\n",
    "print(\"報告班長，測試的貓咪已全部複製完畢\")"
   ]
  },
  {
   "cell_type": "code",
   "execution_count": 9,
   "metadata": {
    "ExecuteTime": {
     "end_time": "2019-01-30T03:23:54.191237Z",
     "start_time": "2019-01-30T03:23:54.165103Z"
    }
   },
   "outputs": [
    {
     "name": "stdout",
     "output_type": "stream",
     "text": [
      "報告班長，訓練的狗狗已全部複製完畢\n",
      "報告班長，驗證的狗狗已全部複製完畢\n",
      "報告班長，測試的狗狗已全部複製完畢\n"
     ]
    }
   ],
   "source": [
    "mv_dogs = [\"dog.{}.jpg\".format(i) for i in range(1000)]\n",
    "for mv_dog in mv_dogs:\n",
    "    src = os.path.join(orig_dataset, mv_dog)\n",
    "    des = os.path.join(train_dogs_data, mv_dog)\n",
    "    if not os.path.exists(des):\n",
    "        shutil.copyfile(src, des)\n",
    "print(\"報告班長，訓練的狗狗已全部複製完畢\")\n",
    "\n",
    "mv_dogs = [\"dog.{}.jpg\".format(i) for i in range(1000, 1500)]\n",
    "for mv_dog in mv_dogs:\n",
    "    src = os.path.join(orig_dataset, mv_dog)\n",
    "    des = os.path.join(validation_dogs_data, mv_dog)\n",
    "    if not os.path.exists(des):\n",
    "        shutil.copyfile(src, des)\n",
    "print(\"報告班長，驗證的狗狗已全部複製完畢\")\n",
    "\n",
    "mv_dogs = [\"dog.{}.jpg\".format(i) for i in range(1500, 2000)]\n",
    "for mv_dog in mv_dogs:\n",
    "    src = os.path.join(orig_dataset, mv_dog)\n",
    "    des = os.path.join(test_dogs_data, mv_dog)\n",
    "    if not os.path.exists(des):\n",
    "        shutil.copyfile(src, des)\n",
    "print(\"報告班長，測試的狗狗已全部複製完畢\")"
   ]
  },
  {
   "cell_type": "code",
   "execution_count": 10,
   "metadata": {
    "ExecuteTime": {
     "end_time": "2019-01-30T03:23:54.200169Z",
     "start_time": "2019-01-30T03:23:54.192359Z"
    }
   },
   "outputs": [
    {
     "name": "stdout",
     "output_type": "stream",
     "text": [
      "報告班長 訓練貓咪集，應到1000隻，實到 1000 隻，報告完畢。\n",
      "報告班長 訓練狗狗集，應到1000隻，實到 1000 隻，報告完畢。\n",
      "報告班長 驗證貓咪集，應到500 隻，實到 500  隻，報告完畢。\n",
      "報告班長 驗證狗狗集，應到500 隻，實到 500  隻，報告完畢。\n",
      "報告班長 測試貓咪集，應到500 隻，實到 500  隻，報告完畢。\n",
      "報告班長 測試狗狗集，應到500 隻，實到 500  隻，報告完畢。\n"
     ]
    }
   ],
   "source": [
    "print('報告班長 訓練貓咪集，應到1000隻，實到', len(os.listdir(train_cats_data)),'隻，報告完畢。')\n",
    "print('報告班長 訓練狗狗集，應到1000隻，實到', len(os.listdir(train_dogs_data)),'隻，報告完畢。')\n",
    "print('報告班長 驗證貓咪集，應到500 隻，實到', len(os.listdir(validation_cats_data)),' 隻，報告完畢。')\n",
    "print('報告班長 驗證狗狗集，應到500 隻，實到', len(os.listdir(validation_dogs_data)),' 隻，報告完畢。')\n",
    "print('報告班長 測試貓咪集，應到500 隻，實到', len(os.listdir(test_cats_data)),' 隻，報告完畢。')\n",
    "print('報告班長 測試狗狗集，應到500 隻，實到', len(os.listdir(test_dogs_data)),' 隻，報告完畢。')"
   ]
  },
  {
   "cell_type": "code",
   "execution_count": 11,
   "metadata": {
    "ExecuteTime": {
     "end_time": "2019-01-30T03:23:54.208500Z",
     "start_time": "2019-01-30T03:23:54.201455Z"
    },
    "collapsed": true
   },
   "outputs": [],
   "source": [
    "def pop(self):\n",
    "    '''Removes a layer instance on top of the layer stack.\n",
    "    '''\n",
    "    if not self.outputs:\n",
    "        raise Exception('Sequential model cannot be popped: model is empty.')\n",
    "    else:\n",
    "        self.layers.pop()\n",
    "        if not self.layers:\n",
    "            self.outputs = []\n",
    "            self.inbound_nodes = []\n",
    "            self.outbound_nodes = []\n",
    "        else:\n",
    "            self.layers[-1].outbound_nodes = []\n",
    "            self.outputs = [self.layers[-1].output]\n",
    "        self.built = False"
   ]
  },
  {
   "cell_type": "code",
   "execution_count": 12,
   "metadata": {
    "ExecuteTime": {
     "end_time": "2019-01-30T03:23:55.068730Z",
     "start_time": "2019-01-30T03:23:54.209854Z"
    }
   },
   "outputs": [
    {
     "name": "stdout",
     "output_type": "stream",
     "text": [
      "_________________________________________________________________\n",
      "Layer (type)                 Output Shape              Param #   \n",
      "=================================================================\n",
      "conv2d_1 (Conv2D)            (None, 126, 126, 32)      896       \n",
      "_________________________________________________________________\n",
      "batch_normalization_1 (Batch (None, 126, 126, 32)      128       \n",
      "_________________________________________________________________\n",
      "max_pooling2d_1 (MaxPooling2 (None, 63, 63, 32)        0         \n",
      "_________________________________________________________________\n",
      "dropout_1 (Dropout)          (None, 63, 63, 32)        0         \n",
      "_________________________________________________________________\n",
      "conv2d_2 (Conv2D)            (None, 61, 61, 64)        18496     \n",
      "_________________________________________________________________\n",
      "batch_normalization_2 (Batch (None, 61, 61, 64)        256       \n",
      "_________________________________________________________________\n",
      "max_pooling2d_2 (MaxPooling2 (None, 30, 30, 64)        0         \n",
      "_________________________________________________________________\n",
      "dropout_2 (Dropout)          (None, 30, 30, 64)        0         \n",
      "_________________________________________________________________\n",
      "conv2d_3 (Conv2D)            (None, 28, 28, 128)       73856     \n",
      "_________________________________________________________________\n",
      "batch_normalization_3 (Batch (None, 28, 28, 128)       512       \n",
      "_________________________________________________________________\n",
      "max_pooling2d_3 (MaxPooling2 (None, 14, 14, 128)       0         \n",
      "_________________________________________________________________\n",
      "dropout_3 (Dropout)          (None, 14, 14, 128)       0         \n",
      "_________________________________________________________________\n",
      "flatten_1 (Flatten)          (None, 25088)             0         \n",
      "_________________________________________________________________\n",
      "dense_1 (Dense)              (None, 512)               12845568  \n",
      "_________________________________________________________________\n",
      "batch_normalization_4 (Batch (None, 512)               2048      \n",
      "_________________________________________________________________\n",
      "dropout_4 (Dropout)          (None, 512)               0         \n",
      "_________________________________________________________________\n",
      "dense_2 (Dense)              (None, 1)                 513       \n",
      "=================================================================\n",
      "Total params: 12,942,273\n",
      "Trainable params: 12,940,801\n",
      "Non-trainable params: 1,472\n",
      "_________________________________________________________________\n"
     ]
    }
   ],
   "source": [
    "FAST_RUN = False\n",
    "IMAGE_WIDTH=128\n",
    "IMAGE_HEIGHT=128\n",
    "IMAGE_SIZE=(IMAGE_WIDTH, IMAGE_HEIGHT)\n",
    "IMAGE_CHANNELS=3 # RGB color\n",
    "from keras.models import Sequential\n",
    "from keras.layers import Conv2D, MaxPooling2D, Dropout, Flatten, Dense, Activation, BatchNormalization\n",
    "\n",
    "model = Sequential()\n",
    "\n",
    "model.add(Conv2D(32, (3, 3), activation='relu', input_shape=(IMAGE_WIDTH, IMAGE_HEIGHT, IMAGE_CHANNELS)))\n",
    "model.add(BatchNormalization())\n",
    "model.add(MaxPooling2D(pool_size=(2, 2)))\n",
    "model.add(Dropout(0.25))\n",
    "\n",
    "model.add(Conv2D(64, (3, 3), activation='relu'))\n",
    "model.add(BatchNormalization())\n",
    "model.add(MaxPooling2D(pool_size=(2, 2)))\n",
    "model.add(Dropout(0.25))\n",
    "\n",
    "model.add(Conv2D(128, (3, 3), activation='relu'))\n",
    "model.add(BatchNormalization())\n",
    "model.add(MaxPooling2D(pool_size=(2, 2)))\n",
    "model.add(Dropout(0.25))\n",
    "\n",
    "model.add(Flatten())\n",
    "model.add(Dense(512, activation='relu'))\n",
    "model.add(BatchNormalization())\n",
    "model.add(Dropout(0.5))\n",
    "model.add(Dense(1, activation='sigmoid'))\n",
    "\n",
    "model.compile(loss='binary_crossentropy', optimizer='rmsprop', metrics=['accuracy'])\n",
    "\n",
    "model.summary()\n",
    "model.load_weights('all_picture.h5')"
   ]
  },
  {
   "cell_type": "code",
   "execution_count": 13,
   "metadata": {
    "ExecuteTime": {
     "end_time": "2019-01-30T03:23:55.080495Z",
     "start_time": "2019-01-30T03:23:55.070232Z"
    },
    "scrolled": true
   },
   "outputs": [
    {
     "name": "stdout",
     "output_type": "stream",
     "text": [
      "_________________________________________________________________\n",
      "Layer (type)                 Output Shape              Param #   \n",
      "=================================================================\n",
      "conv2d_1 (Conv2D)            (None, 126, 126, 32)      896       \n",
      "_________________________________________________________________\n",
      "batch_normalization_1 (Batch (None, 126, 126, 32)      128       \n",
      "_________________________________________________________________\n",
      "max_pooling2d_1 (MaxPooling2 (None, 63, 63, 32)        0         \n",
      "_________________________________________________________________\n",
      "dropout_1 (Dropout)          (None, 63, 63, 32)        0         \n",
      "_________________________________________________________________\n",
      "conv2d_2 (Conv2D)            (None, 61, 61, 64)        18496     \n",
      "_________________________________________________________________\n",
      "batch_normalization_2 (Batch (None, 61, 61, 64)        256       \n",
      "_________________________________________________________________\n",
      "max_pooling2d_2 (MaxPooling2 (None, 30, 30, 64)        0         \n",
      "_________________________________________________________________\n",
      "dropout_2 (Dropout)          (None, 30, 30, 64)        0         \n",
      "_________________________________________________________________\n",
      "conv2d_3 (Conv2D)            (None, 28, 28, 128)       73856     \n",
      "_________________________________________________________________\n",
      "batch_normalization_3 (Batch (None, 28, 28, 128)       512       \n",
      "_________________________________________________________________\n",
      "max_pooling2d_3 (MaxPooling2 (None, 14, 14, 128)       0         \n",
      "_________________________________________________________________\n",
      "dropout_3 (Dropout)          (None, 14, 14, 128)       0         \n",
      "=================================================================\n",
      "Total params: 12,941,249\n",
      "Trainable params: 12,940,801\n",
      "Non-trainable params: 448\n",
      "_________________________________________________________________\n"
     ]
    },
    {
     "name": "stderr",
     "output_type": "stream",
     "text": [
      "/home/letitgo/anaconda3/envs/jacky_env/lib/python3.6/site-packages/keras/engine/training.py:490: UserWarning: Discrepancy between trainable weights and collected trainable weights, did you set `model.trainable` without calling `model.compile` after ?\n",
      "  'Discrepancy between trainable weights and collected trainable'\n"
     ]
    }
   ],
   "source": [
    "model.pop()\n",
    "model.pop()\n",
    "model.pop()\n",
    "model.pop()\n",
    "model.pop()\n",
    "model.summary()"
   ]
  },
  {
   "cell_type": "code",
   "execution_count": 14,
   "metadata": {
    "ExecuteTime": {
     "end_time": "2019-01-30T03:23:55.468551Z",
     "start_time": "2019-01-30T03:23:55.081709Z"
    }
   },
   "outputs": [
    {
     "name": "stdout",
     "output_type": "stream",
     "text": [
      "_________________________________________________________________\n",
      "Layer (type)                 Output Shape              Param #   \n",
      "=================================================================\n",
      "sequential_1 (Sequential)    (None, 14, 14, 128)       94144     \n",
      "_________________________________________________________________\n",
      "flatten_2 (Flatten)          (None, 25088)             0         \n",
      "_________________________________________________________________\n",
      "dense_3 (Dense)              (None, 512)               12845568  \n",
      "_________________________________________________________________\n",
      "batch_normalization_5 (Batch (None, 512)               2048      \n",
      "_________________________________________________________________\n",
      "dropout_5 (Dropout)          (None, 512)               0         \n",
      "_________________________________________________________________\n",
      "dense_4 (Dense)              (None, 1)                 513       \n",
      "=================================================================\n",
      "Total params: 12,942,273\n",
      "Trainable params: 12,940,801\n",
      "Non-trainable params: 1,472\n",
      "_________________________________________________________________\n"
     ]
    }
   ],
   "source": [
    "abc_model = models.Sequential() # 產生一個新的網絡模型結構\n",
    "abc_model.add(model)        # 把預訓練的卷積基底疊上去\n",
    "abc_model.add(Flatten())\n",
    "abc_model.add(Dense(512, activation='relu'))\n",
    "abc_model.add(BatchNormalization())\n",
    "abc_model.add(Dropout(0.5))\n",
    "abc_model.add(Dense(1, activation='sigmoid'))\n",
    "abc_model.summary()"
   ]
  },
  {
   "cell_type": "code",
   "execution_count": 15,
   "metadata": {
    "ExecuteTime": {
     "end_time": "2019-01-30T03:23:55.472592Z",
     "start_time": "2019-01-30T03:23:55.469951Z"
    },
    "collapsed": true
   },
   "outputs": [],
   "source": [
    "model.trainable = False\n",
    "target_number = 128"
   ]
  },
  {
   "cell_type": "code",
   "execution_count": 16,
   "metadata": {
    "ExecuteTime": {
     "end_time": "2019-01-30T03:23:55.700975Z",
     "start_time": "2019-01-30T03:23:55.473990Z"
    }
   },
   "outputs": [
    {
     "name": "stdout",
     "output_type": "stream",
     "text": [
      "Found 2000 images belonging to 2 classes.\n",
      "Found 1000 images belonging to 2 classes.\n"
     ]
    }
   ],
   "source": [
    "train_datagen = ImageDataGenerator(\n",
    "    rotation_range=15,\n",
    "    rescale=1./255,\n",
    "    shear_range=0.1,\n",
    "    zoom_range=0.2,\n",
    "    horizontal_flip=True,\n",
    "    width_shift_range=0.1,\n",
    "    height_shift_range=0.1)\n",
    "\n",
    "test_datagen = ImageDataGenerator(rescale=1/255)\n",
    "\n",
    "train_generator = train_datagen.flow_from_directory(\n",
    "        # 這是圖像資料的目錄\n",
    "        small_train_data,\n",
    "        # 所有的圖像大小會被轉換成150x150\n",
    "        target_size=(target_number, target_number),\n",
    "        batch_size=32,\n",
    "        # 由於這是一個二元分類問題, y的lable值也會被轉換成二元的標籤\n",
    "        class_mode='binary')\n",
    "\n",
    "validation_generator = test_datagen.flow_from_directory(\n",
    "        small_validation_data,\n",
    "        target_size=(target_number, target_number),\n",
    "        batch_size=32,\n",
    "        class_mode='binary')"
   ]
  },
  {
   "cell_type": "code",
   "execution_count": 17,
   "metadata": {
    "ExecuteTime": {
     "end_time": "2019-01-30T03:23:55.747607Z",
     "start_time": "2019-01-30T03:23:55.703631Z"
    },
    "collapsed": true
   },
   "outputs": [],
   "source": [
    "abc_model.compile(loss='binary_crossentropy',\n",
    "              optimizer=\"adadelta\",\n",
    "              metrics=['acc'])"
   ]
  },
  {
   "cell_type": "code",
   "execution_count": 18,
   "metadata": {
    "ExecuteTime": {
     "end_time": "2019-01-30T03:23:55.753110Z",
     "start_time": "2019-01-30T03:23:55.749074Z"
    },
    "collapsed": true
   },
   "outputs": [],
   "source": [
    "from keras.callbacks import EarlyStopping, ReduceLROnPlateau\n",
    "earlystop = EarlyStopping(patience=10)\n",
    "learning_rate_reduction = ReduceLROnPlateau(monitor='val_acc', \n",
    "                                            patience=2, \n",
    "                                            verbose=1, \n",
    "                                            factor=0.5, \n",
    "                                            min_lr=0.00001)\n",
    "callbacks = [earlystop, learning_rate_reduction]\n",
    "#callbacks = [earlystop]"
   ]
  },
  {
   "cell_type": "code",
   "execution_count": 28,
   "metadata": {
    "ExecuteTime": {
     "end_time": "2019-01-30T04:04:41.817225Z",
     "start_time": "2019-01-30T03:50:17.732529Z"
    }
   },
   "outputs": [
    {
     "name": "stdout",
     "output_type": "stream",
     "text": [
      "Epoch 1/25\n",
      "50/50 [==============================] - 36s 715ms/step - loss: 0.2044 - acc: 0.9163 - val_loss: 0.2357 - val_acc: 0.9124\n",
      "Epoch 2/25\n",
      "50/50 [==============================] - 34s 690ms/step - loss: 0.2203 - acc: 0.9050 - val_loss: 0.2260 - val_acc: 0.9124\n",
      "Epoch 3/25\n",
      "50/50 [==============================] - 35s 696ms/step - loss: 0.2139 - acc: 0.9069 - val_loss: 0.2241 - val_acc: 0.9156\n",
      "Epoch 4/25\n",
      "50/50 [==============================] - 35s 690ms/step - loss: 0.1971 - acc: 0.9187 - val_loss: 0.2322 - val_acc: 0.9117\n",
      "Epoch 5/25\n",
      "50/50 [==============================] - 35s 692ms/step - loss: 0.2056 - acc: 0.9194 - val_loss: 0.2385 - val_acc: 0.9086\n",
      "\n",
      "Epoch 00005: ReduceLROnPlateau reducing learning rate to 0.015625.\n",
      "Epoch 6/25\n",
      "50/50 [==============================] - 34s 688ms/step - loss: 0.2049 - acc: 0.9156 - val_loss: 0.2284 - val_acc: 0.9156\n",
      "Epoch 7/25\n",
      "50/50 [==============================] - 35s 691ms/step - loss: 0.2000 - acc: 0.9250 - val_loss: 0.2289 - val_acc: 0.9124\n",
      "\n",
      "Epoch 00007: ReduceLROnPlateau reducing learning rate to 0.0078125.\n",
      "Epoch 8/25\n",
      "50/50 [==============================] - 35s 693ms/step - loss: 0.2002 - acc: 0.9175 - val_loss: 0.2285 - val_acc: 0.9143\n",
      "Epoch 9/25\n",
      "50/50 [==============================] - 35s 692ms/step - loss: 0.2125 - acc: 0.9132 - val_loss: 0.2361 - val_acc: 0.9124\n",
      "\n",
      "Epoch 00009: ReduceLROnPlateau reducing learning rate to 0.00390625.\n",
      "Epoch 10/25\n",
      "50/50 [==============================] - 35s 691ms/step - loss: 0.1993 - acc: 0.9106 - val_loss: 0.2343 - val_acc: 0.9105\n",
      "Epoch 11/25\n",
      "50/50 [==============================] - 34s 686ms/step - loss: 0.2141 - acc: 0.9188 - val_loss: 0.2230 - val_acc: 0.9117\n",
      "\n",
      "Epoch 00011: ReduceLROnPlateau reducing learning rate to 0.001953125.\n",
      "Epoch 12/25\n",
      "50/50 [==============================] - 34s 688ms/step - loss: 0.2117 - acc: 0.9100 - val_loss: 0.2288 - val_acc: 0.9156\n",
      "Epoch 13/25\n",
      "50/50 [==============================] - 35s 691ms/step - loss: 0.2034 - acc: 0.9150 - val_loss: 0.2270 - val_acc: 0.9104\n",
      "\n",
      "Epoch 00013: ReduceLROnPlateau reducing learning rate to 0.0009765625.\n",
      "Epoch 14/25\n",
      "50/50 [==============================] - 35s 691ms/step - loss: 0.2111 - acc: 0.9081 - val_loss: 0.2308 - val_acc: 0.9150\n",
      "Epoch 15/25\n",
      "50/50 [==============================] - 34s 689ms/step - loss: 0.1942 - acc: 0.9250 - val_loss: 0.2222 - val_acc: 0.9149\n",
      "\n",
      "Epoch 00015: ReduceLROnPlateau reducing learning rate to 0.00048828125.\n",
      "Epoch 16/25\n",
      "50/50 [==============================] - 34s 687ms/step - loss: 0.2021 - acc: 0.9125 - val_loss: 0.2397 - val_acc: 0.9091\n",
      "Epoch 17/25\n",
      "50/50 [==============================] - 35s 697ms/step - loss: 0.1953 - acc: 0.9156 - val_loss: 0.2167 - val_acc: 0.9143\n",
      "\n",
      "Epoch 00017: ReduceLROnPlateau reducing learning rate to 0.000244140625.\n",
      "Epoch 18/25\n",
      "50/50 [==============================] - 34s 686ms/step - loss: 0.1989 - acc: 0.9162 - val_loss: 0.2460 - val_acc: 0.9085\n",
      "Epoch 19/25\n",
      "50/50 [==============================] - 35s 692ms/step - loss: 0.1874 - acc: 0.9275 - val_loss: 0.2232 - val_acc: 0.9137\n",
      "\n",
      "Epoch 00019: ReduceLROnPlateau reducing learning rate to 0.0001220703125.\n",
      "Epoch 20/25\n",
      "50/50 [==============================] - 34s 688ms/step - loss: 0.1965 - acc: 0.9137 - val_loss: 0.2345 - val_acc: 0.9124\n",
      "Epoch 21/25\n",
      "50/50 [==============================] - 35s 695ms/step - loss: 0.2009 - acc: 0.9131 - val_loss: 0.2323 - val_acc: 0.9150\n",
      "\n",
      "Epoch 00021: ReduceLROnPlateau reducing learning rate to 6.103515625e-05.\n",
      "Epoch 22/25\n",
      "50/50 [==============================] - 34s 683ms/step - loss: 0.2293 - acc: 0.9044 - val_loss: 0.2376 - val_acc: 0.9079\n",
      "Epoch 23/25\n",
      "50/50 [==============================] - 34s 687ms/step - loss: 0.2102 - acc: 0.9206 - val_loss: 0.2225 - val_acc: 0.9162\n",
      "Epoch 24/25\n",
      "50/50 [==============================] - 35s 691ms/step - loss: 0.2150 - acc: 0.9119 - val_loss: 0.2179 - val_acc: 0.9137\n",
      "Epoch 25/25\n",
      "50/50 [==============================] - 35s 691ms/step - loss: 0.2020 - acc: 0.9163 - val_loss: 0.2418 - val_acc: 0.9104\n",
      "\n",
      "Epoch 00025: ReduceLROnPlateau reducing learning rate to 3.0517578125e-05.\n"
     ]
    }
   ],
   "source": [
    "history = abc_model.fit_generator(\n",
    "      train_generator,\n",
    "      steps_per_epoch=50,\n",
    "      epochs=25,\n",
    "      validation_data=validation_generator,\n",
    "      validation_steps=50,\n",
    "      callbacks=callbacks)"
   ]
  },
  {
   "cell_type": "code",
   "execution_count": 29,
   "metadata": {
    "ExecuteTime": {
     "end_time": "2019-01-30T04:04:42.167133Z",
     "start_time": "2019-01-30T04:04:41.819026Z"
    }
   },
   "outputs": [
    {
     "data": {
      "image/png": "[encoded data removed]",
      "text/plain": [
       "<Figure size 1440x432 with 2 Axes>"
      ]
     },
     "metadata": {},
     "output_type": "display_data"
    }
   ],
   "source": [
    "import matplotlib.pyplot as plt\n",
    "\n",
    "acc = history.history['acc']\n",
    "val_acc = history.history['val_acc']\n",
    "loss = history.history['loss']\n",
    "val_loss = history.history['val_loss']\n",
    "\n",
    "epochs = range(len(acc))\n",
    "\n",
    "plt.figure(figsize=(20, 6))\n",
    "\n",
    "plt.subplot(1,2,1)\n",
    "plt.grid(True)\n",
    "plt.rcParams['axes.facecolor'] = 'white'\n",
    "plt.plot(epochs, acc, linewidth = '2', label = \"Training acc\", color='blue', linestyle='--', marker='o', markersize=8)\n",
    "plt.plot(epochs, val_acc, linewidth = '2', label = \"Validation acc\", color='coral', linestyle='--', marker='o', markersize=8)\n",
    "plt.title('Training and validation accuracy')\n",
    "plt.legend()\n",
    "\n",
    "\n",
    "plt.subplot(1,2,2)\n",
    "plt.grid(True)\n",
    "plt.plot(epochs, loss, linewidth = '2', label = \"Training loss\", color='blue', linestyle='--', marker='o', markersize=8)\n",
    "plt.plot(epochs, val_loss, linewidth = '2', label = \"Validation loss\", color='coral', linestyle='--', marker='o', markersize=8)\n",
    "plt.title('Training and validation loss')\n",
    "plt.legend()\n",
    "\n",
    "plt.show()"
   ]
  },
  {
   "cell_type": "code",
   "execution_count": null,
   "metadata": {
    "collapsed": true
   },
   "outputs": [],
   "source": []
  }
 ],
 "metadata": {
  "kernelspec": {
   "display_name": "Python 3",
   "language": "python",
   "name": "python3"
  },
  "language_info": {
   "codemirror_mode": {
    "name": "ipython",
    "version": 3
   },
   "file_extension": ".py",
   "mimetype": "text/x-python",
   "name": "python",
   "nbconvert_exporter": "python",
   "pygments_lexer": "ipython3",
   "version": "3.6.6"
  }
 },
 "nbformat": 4,
 "nbformat_minor": 2
}
