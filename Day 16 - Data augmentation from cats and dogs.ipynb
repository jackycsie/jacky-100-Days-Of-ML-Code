{
 "cells": [
  {
   "cell_type": "code",
   "execution_count": 1,
   "metadata": {
    "ExecuteTime": {
     "end_time": "2019-02-01T04:03:28.401372Z",
     "start_time": "2019-02-01T04:03:28.391687Z"
    }
   },
   "outputs": [
    {
     "ename": "SyntaxError",
     "evalue": "invalid syntax (<ipython-input-1-5f476c24ee03>, line 2)",
     "output_type": "error",
     "traceback": [
      "\u001b[0;36m  File \u001b[0;32m\"<ipython-input-1-5f476c24ee03>\"\u001b[0;36m, line \u001b[0;32m2\u001b[0m\n\u001b[0;31m    https://medium.com/@jackycsie/%E5%B0%8F%E6%95%B8%E6%93%9A%E7%9A%84%E9%80%86%E8%A5%B2-c04fee852539\u001b[0m\n\u001b[0m           ^\u001b[0m\n\u001b[0;31mSyntaxError\u001b[0m\u001b[0;31m:\u001b[0m invalid syntax\n"
     ]
    }
   ],
   "source": [
    "在下面網址文章中我們介紹到如果沒有使用資料增強以及有使用資料增強後我們的差別比較\n",
    "https://medium.com/@jackycsie/%E5%B0%8F%E6%95%B8%E6%93%9A%E7%9A%84%E9%80%86%E8%A5%B2-c04fee852539"
   ]
  },
  {
   "cell_type": "code",
   "execution_count": 1,
   "metadata": {
    "ExecuteTime": {
     "end_time": "2019-01-19T03:41:36.074269Z",
     "start_time": "2019-01-19T03:41:33.972410Z"
    }
   },
   "outputs": [
    {
     "name": "stderr",
     "output_type": "stream",
     "text": [
      "Using TensorFlow backend.\n"
     ]
    }
   ],
   "source": [
    "import tensorflow\n",
    "import keras\n",
    "import numpy as np\n",
    "import matplotlib.pyplot as plt\n",
    "import matplotlib.image as mpimg\n",
    "import os\n",
    "import shutil\n",
    "\n",
    "from IPython.display import Image\n",
    "from keras.preprocessing.image import ImageDataGenerator\n",
    "from keras import layers\n",
    "from keras import models\n",
    "from keras import optimizers\n",
    "from keras.models import Model\n",
    "from keras.layers import Input, Dense, Flatten, Dropout\n",
    "from keras.layers.convolutional import Conv2D\n",
    "from keras.layers.pooling import MaxPool2D\n",
    "from keras.utils import plot_model\n",
    "\n",
    "%matplotlib inline"
   ]
  },
  {
   "cell_type": "code",
   "execution_count": 2,
   "metadata": {
    "ExecuteTime": {
     "end_time": "2019-01-19T03:41:36.081591Z",
     "start_time": "2019-01-19T03:41:36.076618Z"
    },
    "collapsed": true
   },
   "outputs": [],
   "source": [
    "ROOT_DIR = os.getcwd()\n",
    "DATA_PATH = os.path.join(ROOT_DIR, \"dataset\")"
   ]
  },
  {
   "cell_type": "code",
   "execution_count": 3,
   "metadata": {
    "ExecuteTime": {
     "end_time": "2019-01-19T03:41:36.091337Z",
     "start_time": "2019-01-19T03:41:36.082962Z"
    },
    "collapsed": true
   },
   "outputs": [],
   "source": [
    "orig_dataset = os.path.join(DATA_PATH, \"train\")\n",
    "\n",
    "save_small_data = os.path.join(DATA_PATH, \"small_data\")\n",
    "if not os.path.exists(save_small_data):\n",
    "    os.mkdir(save_small_data)"
   ]
  },
  {
   "cell_type": "code",
   "execution_count": 4,
   "metadata": {
    "ExecuteTime": {
     "end_time": "2019-01-19T03:41:36.102829Z",
     "start_time": "2019-01-19T03:41:36.093148Z"
    },
    "collapsed": true
   },
   "outputs": [],
   "source": [
    "small_train_data = os.path.join(save_small_data, \"train\")\n",
    "if not os.path.exists(small_train_data):\n",
    "    os.mkdir(small_train_data)\n",
    "    \n",
    "small_validation_data = os.path.join(save_small_data, \"validation\")\n",
    "if not os.path.exists(small_validation_data):\n",
    "    os.mkdir(small_validation_data)\n",
    "\n",
    "small_test_data = os.path.join(save_small_data, \"test\")\n",
    "if not os.path.exists(small_test_data):\n",
    "    os.mkdir(small_test_data)"
   ]
  },
  {
   "cell_type": "code",
   "execution_count": 5,
   "metadata": {
    "ExecuteTime": {
     "end_time": "2019-01-19T03:41:36.114147Z",
     "start_time": "2019-01-19T03:41:36.104359Z"
    },
    "collapsed": true
   },
   "outputs": [],
   "source": [
    "train_dogs_data = os.path.join(small_train_data, 'dogs')\n",
    "if not os.path.exists(train_dogs_data):\n",
    "    os.mkdir(train_dogs_data)\n",
    "\n",
    "train_cats_data = os.path.join(small_train_data, 'cats')\n",
    "if not os.path.exists(train_cats_data):\n",
    "    os.mkdir(train_cats_data)"
   ]
  },
  {
   "cell_type": "code",
   "execution_count": 6,
   "metadata": {
    "ExecuteTime": {
     "end_time": "2019-01-19T03:41:36.158868Z",
     "start_time": "2019-01-19T03:41:36.116476Z"
    },
    "collapsed": true
   },
   "outputs": [],
   "source": [
    "validation_dogs_data = os.path.join(small_validation_data, 'dogs')\n",
    "if not os.path.exists(validation_dogs_data):\n",
    "    os.mkdir(validation_dogs_data)\n",
    "    \n",
    "validation_cats_data = os.path.join(small_validation_data, 'cats')\n",
    "if not os.path.exists(validation_cats_data):\n",
    "    os.mkdir(validation_cats_data)"
   ]
  },
  {
   "cell_type": "code",
   "execution_count": 7,
   "metadata": {
    "ExecuteTime": {
     "end_time": "2019-01-19T03:41:36.164630Z",
     "start_time": "2019-01-19T03:41:36.160469Z"
    },
    "collapsed": true
   },
   "outputs": [],
   "source": [
    "test_dogs_data = os.path.join(small_test_data, 'dogs')\n",
    "if not os.path.exists(test_dogs_data):\n",
    "    os.mkdir(test_dogs_data)\n",
    "    \n",
    "test_cats_data = os.path.join(small_test_data, 'cats')\n",
    "if not os.path.exists(test_cats_data):\n",
    "    os.mkdir(test_cats_data)"
   ]
  },
  {
   "cell_type": "code",
   "execution_count": 8,
   "metadata": {
    "ExecuteTime": {
     "end_time": "2019-01-19T03:41:36.247950Z",
     "start_time": "2019-01-19T03:41:36.167487Z"
    }
   },
   "outputs": [
    {
     "name": "stdout",
     "output_type": "stream",
     "text": [
      "報告班長，訓練的貓咪已全部複製完畢\n",
      "報告班長，驗證的貓咪已全部複製完畢\n",
      "報告班長，測試的貓咪已全部複製完畢\n"
     ]
    }
   ],
   "source": [
    "mv_cats = [\"cat.{}.jpg\".format(i) for i in range(1000)]\n",
    "for mv_cat in mv_cats:\n",
    "    src = os.path.join(orig_dataset, mv_cat)\n",
    "    des = os.path.join(train_cats_data, mv_cat)\n",
    "    if not os.path.exists(des):\n",
    "        shutil.copyfile(src, des)\n",
    "print(\"報告班長，訓練的貓咪已全部複製完畢\")\n",
    "\n",
    "mv_cats = [\"cat.{}.jpg\".format(i) for i in range(1000, 1500)]\n",
    "for mv_cat in mv_cats:\n",
    "    src = os.path.join(orig_dataset, mv_cat)\n",
    "    des = os.path.join(validation_cats_data, mv_cat)\n",
    "    if not os.path.exists(des):\n",
    "        shutil.copyfile(src, des)\n",
    "print(\"報告班長，驗證的貓咪已全部複製完畢\")\n",
    "\n",
    "mv_cats = [\"cat.{}.jpg\".format(i) for i in range(1500, 2000)]\n",
    "for mv_cat in mv_cats:\n",
    "    src = os.path.join(orig_dataset, mv_cat)\n",
    "    des = os.path.join(test_cats_data, mv_cat)\n",
    "    if not os.path.exists(des):\n",
    "        shutil.copyfile(src, des)\n",
    "print(\"報告班長，測試的貓咪已全部複製完畢\")"
   ]
  },
  {
   "cell_type": "code",
   "execution_count": 9,
   "metadata": {
    "ExecuteTime": {
     "end_time": "2019-01-19T03:41:36.316592Z",
     "start_time": "2019-01-19T03:41:36.249676Z"
    }
   },
   "outputs": [
    {
     "name": "stdout",
     "output_type": "stream",
     "text": [
      "報告班長，訓練的狗狗已全部複製完畢\n",
      "報告班長，驗證的狗狗已全部複製完畢\n",
      "報告班長，測試的狗狗已全部複製完畢\n"
     ]
    }
   ],
   "source": [
    "mv_dogs = [\"dog.{}.jpg\".format(i) for i in range(1000)]\n",
    "for mv_dog in mv_dogs:\n",
    "    src = os.path.join(orig_dataset, mv_dog)\n",
    "    des = os.path.join(train_dogs_data, mv_dog)\n",
    "    if not os.path.exists(des):\n",
    "        shutil.copyfile(src, des)\n",
    "print(\"報告班長，訓練的狗狗已全部複製完畢\")\n",
    "\n",
    "mv_dogs = [\"dog.{}.jpg\".format(i) for i in range(1000, 1500)]\n",
    "for mv_dog in mv_dogs:\n",
    "    src = os.path.join(orig_dataset, mv_dog)\n",
    "    des = os.path.join(validation_dogs_data, mv_dog)\n",
    "    if not os.path.exists(des):\n",
    "        shutil.copyfile(src, des)\n",
    "print(\"報告班長，驗證的狗狗已全部複製完畢\")\n",
    "\n",
    "mv_dogs = [\"dog.{}.jpg\".format(i) for i in range(1500, 2000)]\n",
    "for mv_dog in mv_dogs:\n",
    "    src = os.path.join(orig_dataset, mv_dog)\n",
    "    des = os.path.join(test_dogs_data, mv_dog)\n",
    "    if not os.path.exists(des):\n",
    "        shutil.copyfile(src, des)\n",
    "print(\"報告班長，測試的狗狗已全部複製完畢\")"
   ]
  },
  {
   "cell_type": "code",
   "execution_count": 10,
   "metadata": {
    "ExecuteTime": {
     "end_time": "2019-01-19T03:41:36.340737Z",
     "start_time": "2019-01-19T03:41:36.319052Z"
    }
   },
   "outputs": [
    {
     "name": "stdout",
     "output_type": "stream",
     "text": [
      "報告班長 訓練貓咪集，應到1000隻，實到 1000 隻，報告完畢。\n",
      "報告班長 訓練狗狗集，應到1000隻，實到 1000 隻，報告完畢。\n",
      "報告班長 驗證貓咪集，應到500 隻，實到 500  隻，報告完畢。\n",
      "報告班長 驗證狗狗集，應到500 隻，實到 500  隻，報告完畢。\n",
      "報告班長 測試貓咪集，應到500 隻，實到 500  隻，報告完畢。\n",
      "報告班長 測試狗狗集，應到500 隻，實到 500  隻，報告完畢。\n"
     ]
    }
   ],
   "source": [
    "print('報告班長 訓練貓咪集，應到1000隻，實到', len(os.listdir(train_cats_data)),'隻，報告完畢。')\n",
    "print('報告班長 訓練狗狗集，應到1000隻，實到', len(os.listdir(train_dogs_data)),'隻，報告完畢。')\n",
    "print('報告班長 驗證貓咪集，應到500 隻，實到', len(os.listdir(validation_cats_data)),' 隻，報告完畢。')\n",
    "print('報告班長 驗證狗狗集，應到500 隻，實到', len(os.listdir(validation_dogs_data)),' 隻，報告完畢。')\n",
    "print('報告班長 測試貓咪集，應到500 隻，實到', len(os.listdir(test_cats_data)),' 隻，報告完畢。')\n",
    "print('報告班長 測試狗狗集，應到500 隻，實到', len(os.listdir(test_dogs_data)),' 隻，報告完畢。')"
   ]
  },
  {
   "cell_type": "code",
   "execution_count": 11,
   "metadata": {
    "ExecuteTime": {
     "end_time": "2019-01-19T03:41:36.346343Z",
     "start_time": "2019-01-19T03:41:36.342306Z"
    },
    "collapsed": true
   },
   "outputs": [],
   "source": [
    "target_number = 130"
   ]
  },
  {
   "cell_type": "code",
   "execution_count": 12,
   "metadata": {
    "ExecuteTime": {
     "end_time": "2019-01-19T03:41:36.600233Z",
     "start_time": "2019-01-19T03:41:36.349453Z"
    }
   },
   "outputs": [
    {
     "name": "stdout",
     "output_type": "stream",
     "text": [
      "Found 2000 images belonging to 2 classes.\n",
      "Found 1000 images belonging to 2 classes.\n"
     ]
    }
   ],
   "source": [
    "train_datagen = ImageDataGenerator(\n",
    "    rotation_range=15,\n",
    "    rescale=1./255,\n",
    "    shear_range=0.1,\n",
    "    zoom_range=0.2,\n",
    "    horizontal_flip=True,\n",
    "    width_shift_range=0.1,\n",
    "    height_shift_range=0.1)\n",
    "\n",
    "train_generator = train_datagen.flow_from_directory(\n",
    "        # 這是圖像資料的目錄\n",
    "        small_train_data,\n",
    "        # 所有的圖像大小會被轉換成150x150\n",
    "        target_size=(target_number, target_number),\n",
    "        batch_size=32,\n",
    "        # 由於這是一個二元分類問題, y的lable值也會被轉換成二元的標籤\n",
    "        class_mode='binary')\n",
    "\n",
    "\n",
    "test_datagen = ImageDataGenerator(rescale=1/255)\n",
    "validation_generator = test_datagen.flow_from_directory(\n",
    "        small_validation_data,\n",
    "        target_size=(target_number, target_number),\n",
    "        batch_size=32,\n",
    "        class_mode='binary')"
   ]
  },
  {
   "cell_type": "code",
   "execution_count": 13,
   "metadata": {
    "ExecuteTime": {
     "end_time": "2019-01-19T03:41:36.829780Z",
     "start_time": "2019-01-19T03:41:36.601964Z"
    },
    "scrolled": true
   },
   "outputs": [
    {
     "name": "stdout",
     "output_type": "stream",
     "text": [
      "_________________________________________________________________\n",
      "Layer (type)                 Output Shape              Param #   \n",
      "=================================================================\n",
      "input (InputLayer)           (None, 130, 130, 3)       0         \n",
      "_________________________________________________________________\n",
      "conv1 (Conv2D)               (None, 128, 128, 3)       84        \n",
      "_________________________________________________________________\n",
      "conv2 (Conv2D)               (None, 126, 126, 10)      280       \n",
      "_________________________________________________________________\n",
      "pool1 (MaxPooling2D)         (None, 63, 63, 10)        0         \n",
      "_________________________________________________________________\n",
      "conv3 (Conv2D)               (None, 61, 61, 3)         273       \n",
      "_________________________________________________________________\n",
      "conv4 (Conv2D)               (None, 59, 59, 5)         140       \n",
      "_________________________________________________________________\n",
      "pool2 (MaxPooling2D)         (None, 29, 29, 5)         0         \n",
      "_________________________________________________________________\n",
      "flatten1 (Flatten)           (None, 4205)              0         \n",
      "_________________________________________________________________\n",
      "hidden1 (Dense)              (None, 100)               420600    \n",
      "_________________________________________________________________\n",
      "output (Dense)               (None, 1)                 101       \n",
      "=================================================================\n",
      "Total params: 421,478\n",
      "Trainable params: 421,478\n",
      "Non-trainable params: 0\n",
      "_________________________________________________________________\n"
     ]
    },
    {
     "data": {
      "image/png": "[encoded data removed]",
      "text/plain": [
       "<IPython.core.display.Image object>"
      ]
     },
     "execution_count": 13,
     "metadata": {},
     "output_type": "execute_result"
    }
   ],
   "source": [
    "image_input = Input(shape=(target_number, target_number, 3), name='input')\n",
    "\n",
    "conv1 = Conv2D(3, kernel_size=3, activation='relu', name='conv1')(image_input)\n",
    "conv2 = Conv2D(10, kernel_size=3, activation='relu', name='conv2')(conv1)\n",
    "pool1 = MaxPool2D(pool_size=(2, 2), strides=(2,2), name='pool1')(conv2)\n",
    "\n",
    "conv3 = Conv2D(3, kernel_size=3, activation='relu', name='conv3')(pool1)\n",
    "conv4 = Conv2D(5, kernel_size=3, activation='relu', name='conv4')(conv3)\n",
    "pool2 = MaxPool2D(pool_size=(3, 3), strides=(2,2), name='pool2')(conv4)\n",
    "\n",
    "flatten1 = Flatten(name='flatten1')(pool2)\n",
    "\n",
    "hidden1 = Dense(100, activation='sigmoid', name='hidden1')(flatten1)\n",
    "output = Dense(1, activation='sigmoid', name='output')(hidden1)\n",
    "model = Model(inputs=image_input, outputs=output)\n",
    "\n",
    "model.summary()\n",
    "\n",
    "plot_model(model, to_file='convolutional_neural_network_dataaug.png')\n",
    "\n",
    "Image('convolutional_neural_network_dataaug.png')"
   ]
  },
  {
   "cell_type": "code",
   "execution_count": 14,
   "metadata": {
    "ExecuteTime": {
     "end_time": "2019-01-19T03:41:36.872759Z",
     "start_time": "2019-01-19T03:41:36.831663Z"
    },
    "collapsed": true
   },
   "outputs": [],
   "source": [
    "model.compile(loss='binary_crossentropy',\n",
    "              optimizer=\"adadelta\",\n",
    "              metrics=['acc'])"
   ]
  },
  {
   "cell_type": "code",
   "execution_count": 15,
   "metadata": {
    "ExecuteTime": {
     "end_time": "2019-01-19T03:41:36.877951Z",
     "start_time": "2019-01-19T03:41:36.874011Z"
    },
    "collapsed": true
   },
   "outputs": [],
   "source": [
    "from keras.callbacks import EarlyStopping, ReduceLROnPlateau\n",
    "earlystop = EarlyStopping(patience=10)\n",
    "learning_rate_reduction = ReduceLROnPlateau(monitor='val_acc', \n",
    "                                            patience=2, \n",
    "                                            verbose=1, \n",
    "                                            factor=0.5, \n",
    "                                            min_lr=0.00001)\n",
    "callbacks = [earlystop, learning_rate_reduction]\n",
    "callbacks = [earlystop]"
   ]
  },
  {
   "cell_type": "code",
   "execution_count": 16,
   "metadata": {
    "ExecuteTime": {
     "end_time": "2019-01-19T04:17:59.659775Z",
     "start_time": "2019-01-19T03:41:36.879186Z"
    }
   },
   "outputs": [
    {
     "name": "stdout",
     "output_type": "stream",
     "text": [
      "Epoch 1/200\n",
      "100/100 [==============================] - 43s 427ms/step - loss: 0.6924 - acc: 0.5447 - val_loss: 0.6823 - val_acc: 0.5482\n",
      "Epoch 2/200\n",
      "100/100 [==============================] - 39s 393ms/step - loss: 0.6747 - acc: 0.5778 - val_loss: 0.6502 - val_acc: 0.6353\n",
      "Epoch 3/200\n",
      "100/100 [==============================] - 40s 396ms/step - loss: 0.6551 - acc: 0.6187 - val_loss: 0.6471 - val_acc: 0.6244\n",
      "Epoch 4/200\n",
      "100/100 [==============================] - 42s 420ms/step - loss: 0.6502 - acc: 0.6141 - val_loss: 0.6304 - val_acc: 0.6508\n",
      "Epoch 5/200\n",
      "100/100 [==============================] - 39s 386ms/step - loss: 0.6318 - acc: 0.6544 - val_loss: 0.6168 - val_acc: 0.6726\n",
      "Epoch 6/200\n",
      "100/100 [==============================] - 40s 398ms/step - loss: 0.6191 - acc: 0.6603 - val_loss: 0.6057 - val_acc: 0.6823\n",
      "Epoch 7/200\n",
      "100/100 [==============================] - 39s 386ms/step - loss: 0.6107 - acc: 0.6691 - val_loss: 0.5811 - val_acc: 0.6916\n",
      "Epoch 8/200\n",
      "100/100 [==============================] - 40s 402ms/step - loss: 0.6017 - acc: 0.6728 - val_loss: 0.5887 - val_acc: 0.6907\n",
      "Epoch 9/200\n",
      "100/100 [==============================] - 40s 401ms/step - loss: 0.5996 - acc: 0.6756 - val_loss: 0.5679 - val_acc: 0.7133\n",
      "Epoch 10/200\n",
      "100/100 [==============================] - 38s 379ms/step - loss: 0.5800 - acc: 0.6997 - val_loss: 0.5638 - val_acc: 0.7183\n",
      "Epoch 11/200\n",
      "100/100 [==============================] - 39s 391ms/step - loss: 0.5876 - acc: 0.6837 - val_loss: 0.5567 - val_acc: 0.7171\n",
      "Epoch 12/200\n",
      "100/100 [==============================] - 39s 386ms/step - loss: 0.5766 - acc: 0.7084 - val_loss: 0.6206 - val_acc: 0.6593\n",
      "Epoch 13/200\n",
      "100/100 [==============================] - 39s 392ms/step - loss: 0.5759 - acc: 0.7003 - val_loss: 0.5442 - val_acc: 0.7229\n",
      "Epoch 14/200\n",
      "100/100 [==============================] - 40s 395ms/step - loss: 0.5637 - acc: 0.7106 - val_loss: 0.6104 - val_acc: 0.6865\n",
      "Epoch 15/200\n",
      "100/100 [==============================] - 38s 385ms/step - loss: 0.5632 - acc: 0.7181 - val_loss: 0.5375 - val_acc: 0.7365\n",
      "Epoch 16/200\n",
      "100/100 [==============================] - 40s 403ms/step - loss: 0.5669 - acc: 0.7178 - val_loss: 0.5365 - val_acc: 0.7442\n",
      "Epoch 17/200\n",
      "100/100 [==============================] - 37s 368ms/step - loss: 0.5605 - acc: 0.7106 - val_loss: 0.5300 - val_acc: 0.7392\n",
      "Epoch 18/200\n",
      "100/100 [==============================] - 44s 435ms/step - loss: 0.5488 - acc: 0.7275 - val_loss: 0.5164 - val_acc: 0.7642\n",
      "Epoch 19/200\n",
      "100/100 [==============================] - 38s 381ms/step - loss: 0.5484 - acc: 0.7225 - val_loss: 0.5348 - val_acc: 0.7392\n",
      "Epoch 20/200\n",
      "100/100 [==============================] - 39s 394ms/step - loss: 0.5490 - acc: 0.7175 - val_loss: 0.5203 - val_acc: 0.7513\n",
      "Epoch 21/200\n",
      "100/100 [==============================] - 40s 396ms/step - loss: 0.5406 - acc: 0.7328 - val_loss: 0.5180 - val_acc: 0.7525\n",
      "Epoch 22/200\n",
      "100/100 [==============================] - 41s 409ms/step - loss: 0.5486 - acc: 0.7225 - val_loss: 0.5173 - val_acc: 0.7436\n",
      "Epoch 23/200\n",
      "100/100 [==============================] - 42s 421ms/step - loss: 0.5427 - acc: 0.7269 - val_loss: 0.5617 - val_acc: 0.7011\n",
      "Epoch 24/200\n",
      "100/100 [==============================] - 39s 392ms/step - loss: 0.5308 - acc: 0.7322 - val_loss: 0.5070 - val_acc: 0.7655\n",
      "Epoch 25/200\n",
      "100/100 [==============================] - 40s 395ms/step - loss: 0.5401 - acc: 0.7313 - val_loss: 0.5204 - val_acc: 0.7442\n",
      "Epoch 26/200\n",
      "100/100 [==============================] - 39s 388ms/step - loss: 0.5298 - acc: 0.7481 - val_loss: 0.4962 - val_acc: 0.7608\n",
      "Epoch 27/200\n",
      "100/100 [==============================] - 41s 408ms/step - loss: 0.5429 - acc: 0.7287 - val_loss: 0.4955 - val_acc: 0.7558\n",
      "Epoch 28/200\n",
      "100/100 [==============================] - 41s 407ms/step - loss: 0.5284 - acc: 0.7284 - val_loss: 0.5634 - val_acc: 0.7056\n",
      "Epoch 29/200\n",
      "100/100 [==============================] - 40s 402ms/step - loss: 0.5283 - acc: 0.7369 - val_loss: 0.5117 - val_acc: 0.7494\n",
      "Epoch 30/200\n",
      "100/100 [==============================] - 39s 394ms/step - loss: 0.5257 - acc: 0.7472 - val_loss: 0.5018 - val_acc: 0.7475\n",
      "Epoch 31/200\n",
      "100/100 [==============================] - 43s 426ms/step - loss: 0.5235 - acc: 0.7447 - val_loss: 0.4738 - val_acc: 0.7751\n",
      "Epoch 32/200\n",
      "100/100 [==============================] - 40s 403ms/step - loss: 0.5226 - acc: 0.7450 - val_loss: 0.4868 - val_acc: 0.7661\n",
      "Epoch 33/200\n",
      "100/100 [==============================] - 40s 398ms/step - loss: 0.5153 - acc: 0.7506 - val_loss: 0.4907 - val_acc: 0.7449\n",
      "Epoch 34/200\n",
      "100/100 [==============================] - 38s 385ms/step - loss: 0.5139 - acc: 0.7541 - val_loss: 0.4735 - val_acc: 0.7829\n",
      "Epoch 35/200\n",
      "100/100 [==============================] - 41s 407ms/step - loss: 0.5158 - acc: 0.7366 - val_loss: 0.4899 - val_acc: 0.7640\n",
      "Epoch 36/200\n",
      "100/100 [==============================] - 39s 387ms/step - loss: 0.5092 - acc: 0.7437 - val_loss: 0.4860 - val_acc: 0.7680\n",
      "Epoch 37/200\n",
      "100/100 [==============================] - 39s 386ms/step - loss: 0.5043 - acc: 0.7584 - val_loss: 0.4877 - val_acc: 0.7481\n",
      "Epoch 38/200\n",
      "100/100 [==============================] - 40s 403ms/step - loss: 0.5153 - acc: 0.7441 - val_loss: 0.4748 - val_acc: 0.7809\n",
      "Epoch 39/200\n",
      "100/100 [==============================] - 40s 405ms/step - loss: 0.5172 - acc: 0.7438 - val_loss: 0.4886 - val_acc: 0.7551\n",
      "Epoch 40/200\n",
      "100/100 [==============================] - 41s 405ms/step - loss: 0.5070 - acc: 0.7475 - val_loss: 0.5048 - val_acc: 0.7429\n",
      "Epoch 41/200\n",
      "100/100 [==============================] - 40s 400ms/step - loss: 0.5057 - acc: 0.7550 - val_loss: 0.4915 - val_acc: 0.7494\n",
      "Epoch 42/200\n",
      "100/100 [==============================] - 38s 383ms/step - loss: 0.5040 - acc: 0.7491 - val_loss: 0.4847 - val_acc: 0.7500\n",
      "Epoch 43/200\n",
      "100/100 [==============================] - 39s 391ms/step - loss: 0.5044 - acc: 0.7456 - val_loss: 0.4861 - val_acc: 0.7719\n",
      "Epoch 44/200\n",
      "100/100 [==============================] - 38s 378ms/step - loss: 0.5070 - acc: 0.7487 - val_loss: 0.4672 - val_acc: 0.7754\n",
      "Epoch 45/200\n",
      "100/100 [==============================] - 40s 398ms/step - loss: 0.5031 - acc: 0.7516 - val_loss: 0.4633 - val_acc: 0.7835\n",
      "Epoch 46/200\n",
      "100/100 [==============================] - 41s 412ms/step - loss: 0.4965 - acc: 0.7575 - val_loss: 0.4871 - val_acc: 0.7652\n",
      "Epoch 47/200\n",
      "100/100 [==============================] - 38s 377ms/step - loss: 0.5018 - acc: 0.7531 - val_loss: 0.4712 - val_acc: 0.7790\n",
      "Epoch 48/200\n",
      "100/100 [==============================] - 39s 390ms/step - loss: 0.4990 - acc: 0.7584 - val_loss: 0.4883 - val_acc: 0.7539\n",
      "Epoch 49/200\n",
      "100/100 [==============================] - 39s 392ms/step - loss: 0.4926 - acc: 0.7634 - val_loss: 0.4929 - val_acc: 0.7557\n",
      "Epoch 50/200\n",
      "100/100 [==============================] - 40s 399ms/step - loss: 0.4830 - acc: 0.7612 - val_loss: 0.4680 - val_acc: 0.7590\n",
      "Epoch 51/200\n",
      "100/100 [==============================] - 39s 391ms/step - loss: 0.4846 - acc: 0.7666 - val_loss: 0.4872 - val_acc: 0.7684\n",
      "Epoch 52/200\n",
      "100/100 [==============================] - 40s 403ms/step - loss: 0.5000 - acc: 0.7565 - val_loss: 0.4792 - val_acc: 0.7655\n",
      "Epoch 53/200\n",
      "100/100 [==============================] - 39s 389ms/step - loss: 0.4834 - acc: 0.7628 - val_loss: 0.4732 - val_acc: 0.7735\n",
      "Epoch 54/200\n",
      "100/100 [==============================] - 38s 384ms/step - loss: 0.4825 - acc: 0.7709 - val_loss: 0.4757 - val_acc: 0.7829\n",
      "Epoch 55/200\n",
      "100/100 [==============================] - 39s 395ms/step - loss: 0.4920 - acc: 0.7606 - val_loss: 0.4841 - val_acc: 0.7678\n"
     ]
    }
   ],
   "source": [
    "history = model.fit_generator(\n",
    "      train_generator,\n",
    "      steps_per_epoch=100,\n",
    "      epochs=200,\n",
    "      validation_data=validation_generator,\n",
    "      validation_steps=50,\n",
    "      callbacks=callbacks)"
   ]
  },
  {
   "cell_type": "code",
   "execution_count": 17,
   "metadata": {
    "ExecuteTime": {
     "end_time": "2019-01-19T04:17:59.845521Z",
     "start_time": "2019-01-19T04:17:59.662269Z"
    },
    "collapsed": true
   },
   "outputs": [],
   "source": [
    "model.save('cats_and_dogs_fix.h5')"
   ]
  },
  {
   "cell_type": "code",
   "execution_count": 19,
   "metadata": {
    "ExecuteTime": {
     "end_time": "2019-01-19T04:26:26.974125Z",
     "start_time": "2019-01-19T04:26:26.363960Z"
    }
   },
   "outputs": [
    {
     "data": {
      "image/png": "[encoded data removed]",
      "text/plain": [
       "<Figure size 1440x432 with 2 Axes>"
      ]
     },
     "metadata": {},
     "output_type": "display_data"
    }
   ],
   "source": [
    "import matplotlib.pyplot as plt\n",
    "\n",
    "acc = history.history['acc']\n",
    "val_acc = history.history['val_acc']\n",
    "loss = history.history['loss']\n",
    "val_loss = history.history['val_loss']\n",
    "\n",
    "epochs = range(len(acc))\n",
    "\n",
    "plt.figure(figsize=(20,6))\n",
    "\n",
    "\n",
    "plt.subplot(1,2,1)\n",
    "plt.grid(True)\n",
    "plt.rcParams['axes.facecolor'] = 'white'\n",
    "plt.plot(epochs, acc, linewidth = '2', label = \"Training acc\", color='blue', linestyle='--', marker='o', markersize=8)\n",
    "plt.plot(epochs, val_acc, linewidth = '2', label = \"Validation acc\", color='coral', linestyle='--', marker='o', markersize=8)\n",
    "plt.title('Training and validation accuracy')\n",
    "plt.legend()\n",
    "\n",
    "plt.subplot(1,2,2)\n",
    "plt.grid(True)\n",
    "plt.plot(epochs, loss, linewidth = '2', label = \"Training loss\", color='blue', linestyle='--', marker='o', markersize=8)\n",
    "plt.plot(epochs, val_loss, linewidth = '2', label = \"Validation loss\", color='coral', linestyle='--', marker='o', markersize=8)\n",
    "plt.title('Training and validation loss')\n",
    "plt.legend()\n",
    "\n",
    "plt.show()"
   ]
  },
  {
   "cell_type": "code",
   "execution_count": null,
   "metadata": {
    "ExecuteTime": {
     "start_time": "2019-01-19T11:10:56.681Z"
    },
    "collapsed": true
   },
   "outputs": [],
   "source": [
    "import matplotlib.pyplot as plt\n",
    "\n",
    "acc = history.history['acc']\n",
    "val_acc = history.history['val_acc']\n",
    "loss = history.history['loss']\n",
    "val_loss = history.history['val_loss']\n",
    "\n",
    "epochs = range(len(acc))\n",
    "\n",
    "plt.figure(figsize=(20,6))\n",
    "\n",
    "\n",
    "plt.subplot(1,2,1)\n",
    "plt.grid(True)\n",
    "plt.rcParams['axes.facecolor'] = 'white'\n",
    "plt.plot(epochs, acc, linewidth = '2', label = \"Training acc\", color='blue', linestyle='--', marker='o', markersize=8)\n",
    "plt.plot(epochs, val_acc, linewidth = '2', label = \"Validation acc\", color='coral', linestyle='--', marker='o', markersize=8)\n",
    "plt.title('Training and validation accuracy')\n",
    "plt.legend()\n",
    "\n",
    "plt.subplot(1,2,2)\n",
    "plt.grid(True)\n",
    "plt.plot(epochs, loss, linewidth = '2', label = \"Training loss\", color='blue', linestyle='--', marker='o', markersize=8)\n",
    "plt.plot(epochs, val_loss, linewidth = '2', label = \"Validation loss\", color='coral', linestyle='--', marker='o', markersize=8)\n",
    "plt.title('Training and validation loss')\n",
    "plt.legend()\n",
    "\n",
    "plt.show()"
   ]
  },
  {
   "cell_type": "code",
   "execution_count": null,
   "metadata": {
    "collapsed": true
   },
   "outputs": [],
   "source": []
  }
 ],
 "metadata": {
  "kernelspec": {
   "display_name": "Python 3",
   "language": "python",
   "name": "python3"
  },
  "language_info": {
   "codemirror_mode": {
    "name": "ipython",
    "version": 3
   },
   "file_extension": ".py",
   "mimetype": "text/x-python",
   "name": "python",
   "nbconvert_exporter": "python",
   "pygments_lexer": "ipython3",
   "version": "3.6.6"
  }
 },
 "nbformat": 4,
 "nbformat_minor": 2
}
